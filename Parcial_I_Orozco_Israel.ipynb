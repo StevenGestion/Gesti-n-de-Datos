{
  "cells": [
    {
      "cell_type": "code",
      "execution_count": 1,
      "metadata": {
        "id": "pm-hiS5uZP7g"
      },
      "outputs": [],
      "source": [
        "# Importamos Librerías\n",
        "\n",
        "import re\n",
        "from random import randint\n",
        "from datetime import datetime\n",
        "\n",
        "import numpy as np\n",
        "import pandas as pd\n",
        "\n",
        "import matplotlib.pyplot as plt\n",
        "import pylev\n",
        "import seaborn as sbn"
      ],
      "id": "pm-hiS5uZP7g"
    },
    {
      "cell_type": "code",
      "execution_count": 2,
      "metadata": {
        "id": "DVUstYbiZP7i"
      },
      "outputs": [],
      "source": [
        "#Incorporamos parámetros para mostrar columnas cuando se imprime\n",
        "\n",
        "pd.set_option('display.max_columns', None)\n",
        "pd.set_option('display.max_rows',100)\n",
        "pd.set_option('display.max_columns',100)"
      ],
      "id": "DVUstYbiZP7i"
    },
    {
      "cell_type": "code",
      "execution_count": 4,
      "metadata": {
        "id": "sQbw2Y5QZP7i"
      },
      "outputs": [],
      "source": [
        "# Cargamos Base en Excel sobre SECUESTRO\n",
        "\n",
        "stu_df=pd.read_csv('StudentsPerformance_exam1.csv')"
      ],
      "id": "sQbw2Y5QZP7i"
    },
    {
      "cell_type": "code",
      "execution_count": 6,
      "metadata": {
        "colab": {
          "base_uri": "https://localhost:8080/"
        },
        "id": "m0sdgZpjZP7j",
        "outputId": "08f46ab0-4e8c-4773-9114-d2015bebb951"
      },
      "outputs": [
        {
          "output_type": "execute_result",
          "data": {
            "text/plain": [
              "(1000, 8)"
            ]
          },
          "metadata": {},
          "execution_count": 6
        }
      ],
      "source": [
        "# Mostramos Dimensiones de la base\n",
        "\n",
        "stu_df.shape"
      ],
      "id": "m0sdgZpjZP7j"
    },
    {
      "cell_type": "code",
      "execution_count": 7,
      "metadata": {
        "colab": {
          "base_uri": "https://localhost:8080/",
          "height": 206
        },
        "id": "7uRuMv6nZP7k",
        "outputId": "d933a48e-703d-4500-9e7c-63af496b5805"
      },
      "outputs": [
        {
          "output_type": "execute_result",
          "data": {
            "text/plain": [
              "       gender race/ethnicity parental level of education         lunch  \\\n",
              "0  non-binary        group B           bachelor's degree      standard   \n",
              "1      female        group C                some college      standard   \n",
              "2      female        group B             master's degree      standard   \n",
              "3        male        group A          associate's degree  free/reduced   \n",
              "4        male        group C                some college      standard   \n",
              "\n",
              "  test preparation course  math score  reading score  writing score  \n",
              "0                    none        72.0           72.0            NaN  \n",
              "1               completed        69.0           90.0           88.0  \n",
              "2                    none        90.0           95.0           93.0  \n",
              "3                    none         NaN           57.0           44.0  \n",
              "4                    none        76.0           78.0           75.0  "
            ],
            "text/html": [
              "\n",
              "  <div id=\"df-429dca9a-98dc-4229-ac1b-956891c9824c\">\n",
              "    <div class=\"colab-df-container\">\n",
              "      <div>\n",
              "<style scoped>\n",
              "    .dataframe tbody tr th:only-of-type {\n",
              "        vertical-align: middle;\n",
              "    }\n",
              "\n",
              "    .dataframe tbody tr th {\n",
              "        vertical-align: top;\n",
              "    }\n",
              "\n",
              "    .dataframe thead th {\n",
              "        text-align: right;\n",
              "    }\n",
              "</style>\n",
              "<table border=\"1\" class=\"dataframe\">\n",
              "  <thead>\n",
              "    <tr style=\"text-align: right;\">\n",
              "      <th></th>\n",
              "      <th>gender</th>\n",
              "      <th>race/ethnicity</th>\n",
              "      <th>parental level of education</th>\n",
              "      <th>lunch</th>\n",
              "      <th>test preparation course</th>\n",
              "      <th>math score</th>\n",
              "      <th>reading score</th>\n",
              "      <th>writing score</th>\n",
              "    </tr>\n",
              "  </thead>\n",
              "  <tbody>\n",
              "    <tr>\n",
              "      <th>0</th>\n",
              "      <td>non-binary</td>\n",
              "      <td>group B</td>\n",
              "      <td>bachelor's degree</td>\n",
              "      <td>standard</td>\n",
              "      <td>none</td>\n",
              "      <td>72.0</td>\n",
              "      <td>72.0</td>\n",
              "      <td>NaN</td>\n",
              "    </tr>\n",
              "    <tr>\n",
              "      <th>1</th>\n",
              "      <td>female</td>\n",
              "      <td>group C</td>\n",
              "      <td>some college</td>\n",
              "      <td>standard</td>\n",
              "      <td>completed</td>\n",
              "      <td>69.0</td>\n",
              "      <td>90.0</td>\n",
              "      <td>88.0</td>\n",
              "    </tr>\n",
              "    <tr>\n",
              "      <th>2</th>\n",
              "      <td>female</td>\n",
              "      <td>group B</td>\n",
              "      <td>master's degree</td>\n",
              "      <td>standard</td>\n",
              "      <td>none</td>\n",
              "      <td>90.0</td>\n",
              "      <td>95.0</td>\n",
              "      <td>93.0</td>\n",
              "    </tr>\n",
              "    <tr>\n",
              "      <th>3</th>\n",
              "      <td>male</td>\n",
              "      <td>group A</td>\n",
              "      <td>associate's degree</td>\n",
              "      <td>free/reduced</td>\n",
              "      <td>none</td>\n",
              "      <td>NaN</td>\n",
              "      <td>57.0</td>\n",
              "      <td>44.0</td>\n",
              "    </tr>\n",
              "    <tr>\n",
              "      <th>4</th>\n",
              "      <td>male</td>\n",
              "      <td>group C</td>\n",
              "      <td>some college</td>\n",
              "      <td>standard</td>\n",
              "      <td>none</td>\n",
              "      <td>76.0</td>\n",
              "      <td>78.0</td>\n",
              "      <td>75.0</td>\n",
              "    </tr>\n",
              "  </tbody>\n",
              "</table>\n",
              "</div>\n",
              "      <button class=\"colab-df-convert\" onclick=\"convertToInteractive('df-429dca9a-98dc-4229-ac1b-956891c9824c')\"\n",
              "              title=\"Convert this dataframe to an interactive table.\"\n",
              "              style=\"display:none;\">\n",
              "        \n",
              "  <svg xmlns=\"http://www.w3.org/2000/svg\" height=\"24px\"viewBox=\"0 0 24 24\"\n",
              "       width=\"24px\">\n",
              "    <path d=\"M0 0h24v24H0V0z\" fill=\"none\"/>\n",
              "    <path d=\"M18.56 5.44l.94 2.06.94-2.06 2.06-.94-2.06-.94-.94-2.06-.94 2.06-2.06.94zm-11 1L8.5 8.5l.94-2.06 2.06-.94-2.06-.94L8.5 2.5l-.94 2.06-2.06.94zm10 10l.94 2.06.94-2.06 2.06-.94-2.06-.94-.94-2.06-.94 2.06-2.06.94z\"/><path d=\"M17.41 7.96l-1.37-1.37c-.4-.4-.92-.59-1.43-.59-.52 0-1.04.2-1.43.59L10.3 9.45l-7.72 7.72c-.78.78-.78 2.05 0 2.83L4 21.41c.39.39.9.59 1.41.59.51 0 1.02-.2 1.41-.59l7.78-7.78 2.81-2.81c.8-.78.8-2.07 0-2.86zM5.41 20L4 18.59l7.72-7.72 1.47 1.35L5.41 20z\"/>\n",
              "  </svg>\n",
              "      </button>\n",
              "      \n",
              "  <style>\n",
              "    .colab-df-container {\n",
              "      display:flex;\n",
              "      flex-wrap:wrap;\n",
              "      gap: 12px;\n",
              "    }\n",
              "\n",
              "    .colab-df-convert {\n",
              "      background-color: #E8F0FE;\n",
              "      border: none;\n",
              "      border-radius: 50%;\n",
              "      cursor: pointer;\n",
              "      display: none;\n",
              "      fill: #1967D2;\n",
              "      height: 32px;\n",
              "      padding: 0 0 0 0;\n",
              "      width: 32px;\n",
              "    }\n",
              "\n",
              "    .colab-df-convert:hover {\n",
              "      background-color: #E2EBFA;\n",
              "      box-shadow: 0px 1px 2px rgba(60, 64, 67, 0.3), 0px 1px 3px 1px rgba(60, 64, 67, 0.15);\n",
              "      fill: #174EA6;\n",
              "    }\n",
              "\n",
              "    [theme=dark] .colab-df-convert {\n",
              "      background-color: #3B4455;\n",
              "      fill: #D2E3FC;\n",
              "    }\n",
              "\n",
              "    [theme=dark] .colab-df-convert:hover {\n",
              "      background-color: #434B5C;\n",
              "      box-shadow: 0px 1px 3px 1px rgba(0, 0, 0, 0.15);\n",
              "      filter: drop-shadow(0px 1px 2px rgba(0, 0, 0, 0.3));\n",
              "      fill: #FFFFFF;\n",
              "    }\n",
              "  </style>\n",
              "\n",
              "      <script>\n",
              "        const buttonEl =\n",
              "          document.querySelector('#df-429dca9a-98dc-4229-ac1b-956891c9824c button.colab-df-convert');\n",
              "        buttonEl.style.display =\n",
              "          google.colab.kernel.accessAllowed ? 'block' : 'none';\n",
              "\n",
              "        async function convertToInteractive(key) {\n",
              "          const element = document.querySelector('#df-429dca9a-98dc-4229-ac1b-956891c9824c');\n",
              "          const dataTable =\n",
              "            await google.colab.kernel.invokeFunction('convertToInteractive',\n",
              "                                                     [key], {});\n",
              "          if (!dataTable) return;\n",
              "\n",
              "          const docLinkHtml = 'Like what you see? Visit the ' +\n",
              "            '<a target=\"_blank\" href=https://colab.research.google.com/notebooks/data_table.ipynb>data table notebook</a>'\n",
              "            + ' to learn more about interactive tables.';\n",
              "          element.innerHTML = '';\n",
              "          dataTable['output_type'] = 'display_data';\n",
              "          await google.colab.output.renderOutput(dataTable, element);\n",
              "          const docLink = document.createElement('div');\n",
              "          docLink.innerHTML = docLinkHtml;\n",
              "          element.appendChild(docLink);\n",
              "        }\n",
              "      </script>\n",
              "    </div>\n",
              "  </div>\n",
              "  "
            ]
          },
          "metadata": {},
          "execution_count": 7
        }
      ],
      "source": [
        "stu_df.head()"
      ],
      "id": "7uRuMv6nZP7k"
    },
    {
      "cell_type": "code",
      "execution_count": 8,
      "metadata": {
        "colab": {
          "base_uri": "https://localhost:8080/"
        },
        "id": "9VrNWtnyZP7k",
        "outputId": "c3aa2ea4-8c92-49bb-f69d-d6a283cb51f9"
      },
      "outputs": [
        {
          "output_type": "execute_result",
          "data": {
            "text/plain": [
              "gender                          object\n",
              "race/ethnicity                  object\n",
              "parental level of education     object\n",
              "lunch                           object\n",
              "test preparation course         object\n",
              "math score                     float64\n",
              "reading score                  float64\n",
              "writing score                  float64\n",
              "dtype: object"
            ]
          },
          "metadata": {},
          "execution_count": 8
        }
      ],
      "source": [
        "# PUNTO 1. TIPOS DE VARIABLES\n",
        "\n",
        "#Indagamos sobre el tipo de variables de la base\n",
        "stu_df.dtypes"
      ],
      "id": "9VrNWtnyZP7k"
    },
    {
      "cell_type": "code",
      "source": [
        "# Según resultado anterior, contamos con tres variables reales (puntajes de matemáticas, escritura y lectura) con las demás variable en formato más general de \"objeto\""
      ],
      "metadata": {
        "id": "nh2Egt6JbLnW"
      },
      "id": "nh2Egt6JbLnW",
      "execution_count": 9,
      "outputs": []
    },
    {
      "cell_type": "code",
      "source": [
        "#PUNTO 2. DIAGNÓSTICO DE CALIDAD DE DATOS.\n",
        "\n",
        "# Verificamos atributos de calidad de datos para las columnas. Comenzamos con la existencia de valores faltantes:\n",
        "\n",
        "stu_df.isnull().sum()"
      ],
      "metadata": {
        "colab": {
          "base_uri": "https://localhost:8080/"
        },
        "id": "zVNmb0Nrckxh",
        "outputId": "0f4f44ba-4a20-40ca-f205-ab2f65d972aa"
      },
      "id": "zVNmb0Nrckxh",
      "execution_count": 21,
      "outputs": [
        {
          "output_type": "execute_result",
          "data": {
            "text/plain": [
              "gender                         47\n",
              "race/ethnicity                 45\n",
              "parental level of education    60\n",
              "lunch                          54\n",
              "test preparation course        41\n",
              "math score                     51\n",
              "reading score                  48\n",
              "writing score                  49\n",
              "dtype: int64"
            ]
          },
          "metadata": {},
          "execution_count": 21
        }
      ]
    },
    {
      "cell_type": "code",
      "source": [
        "# Confirmamos con lo anterior que hay presencia de valores faltantes en todas las columnas. Como se observa que los datos faltantes no son simétricos en las columnas numéricas de calificación, se decide dejar como NaN."
      ],
      "metadata": {
        "id": "qEiYXLD9c2IC"
      },
      "id": "qEiYXLD9c2IC",
      "execution_count": 20,
      "outputs": []
    },
    {
      "cell_type": "code",
      "execution_count": 15,
      "metadata": {
        "colab": {
          "base_uri": "https://localhost:8080/"
        },
        "id": "cJsj1GZaZP7n",
        "outputId": "d854d16b-47f1-4aa0-b16a-2d99a9c6fc09"
      },
      "outputs": [
        {
          "output_type": "execute_result",
          "data": {
            "text/plain": [
              "{'female', 'male', nan, 'non-binary'}"
            ]
          },
          "metadata": {},
          "execution_count": 15
        }
      ],
      "source": [
        "#Pasamos a verificar categorias en columnas donde aplicar para determinar unicidad:\n",
        "\n",
        "set(stu_df[\"gender\"].values)"
      ],
      "id": "cJsj1GZaZP7n"
    },
    {
      "cell_type": "code",
      "execution_count": 16,
      "metadata": {
        "colab": {
          "base_uri": "https://localhost:8080/"
        },
        "id": "jaOk3s66ZP7p",
        "outputId": "e1874de9-a9f5-48e8-ab0e-f5f463789aa1"
      },
      "outputs": [
        {
          "output_type": "execute_result",
          "data": {
            "text/plain": [
              "{'group A', 'group B', 'group C', 'group D', 'group E', nan}"
            ]
          },
          "metadata": {},
          "execution_count": 16
        }
      ],
      "source": [
        "set(stu_df[\"race/ethnicity\"].values)"
      ],
      "id": "jaOk3s66ZP7p"
    },
    {
      "cell_type": "code",
      "source": [
        "set(stu_df[\"parental level of education\"].values)"
      ],
      "metadata": {
        "colab": {
          "base_uri": "https://localhost:8080/"
        },
        "id": "wI5mRAW-ddIT",
        "outputId": "b6c28401-539c-45e8-b175-9ca06f98dfd1"
      },
      "id": "wI5mRAW-ddIT",
      "execution_count": 17,
      "outputs": [
        {
          "output_type": "execute_result",
          "data": {
            "text/plain": [
              "{\"associate's degree\",\n",
              " \"bachelor's degree\",\n",
              " 'high school',\n",
              " \"master's degree\",\n",
              " nan,\n",
              " 'some college',\n",
              " 'some high school'}"
            ]
          },
          "metadata": {},
          "execution_count": 17
        }
      ]
    },
    {
      "cell_type": "code",
      "source": [
        "set(stu_df[\"lunch\"].values)"
      ],
      "metadata": {
        "colab": {
          "base_uri": "https://localhost:8080/"
        },
        "id": "BTy9gpxVddPx",
        "outputId": "5c262224-6d06-42c3-faf5-51b35855df0d"
      },
      "id": "BTy9gpxVddPx",
      "execution_count": 18,
      "outputs": [
        {
          "output_type": "execute_result",
          "data": {
            "text/plain": [
              "{'free/reduced', nan, 'standard'}"
            ]
          },
          "metadata": {},
          "execution_count": 18
        }
      ]
    },
    {
      "cell_type": "code",
      "source": [
        "set(stu_df[\"test preparation course\"].values)"
      ],
      "metadata": {
        "colab": {
          "base_uri": "https://localhost:8080/"
        },
        "id": "fE2iDSYzddTP",
        "outputId": "5941659b-a628-4fbf-8ce0-067cefc931bb"
      },
      "id": "fE2iDSYzddTP",
      "execution_count": 19,
      "outputs": [
        {
          "output_type": "execute_result",
          "data": {
            "text/plain": [
              "{'completed', nan, 'none'}"
            ]
          },
          "metadata": {},
          "execution_count": 19
        }
      ]
    },
    {
      "cell_type": "code",
      "source": [
        "# De acuerdo con lo anterior, no parecen existir mismas categorías con identificaciones heterogéneas\n"
      ],
      "metadata": {
        "id": "oVcZQtHwddWD"
      },
      "id": "oVcZQtHwddWD",
      "execution_count": null,
      "outputs": []
    },
    {
      "cell_type": "code",
      "source": [
        "#PUNTO 3 ASIGNATURA CON MAYOR PROMEDIO\n",
        "\n",
        "# Sacamos los promedios de cada asignatura\n",
        "\n",
        "print(\"Promedio Matemáticas = \",stu_df[\"math score\"].mean())\n",
        "print(\"Promedio Lectura = \",stu_df[\"reading score\"].mean())\n",
        "print(\"Promedio Matemáticas = \",stu_df[\"writing score\"].mean())"
      ],
      "metadata": {
        "colab": {
          "base_uri": "https://localhost:8080/"
        },
        "id": "7GwqiGLBddY4",
        "outputId": "987d4361-d77c-42c5-a650-4e9ac43b25cf"
      },
      "id": "7GwqiGLBddY4",
      "execution_count": 25,
      "outputs": [
        {
          "output_type": "stream",
          "name": "stdout",
          "text": [
            "Promedio Matemáticas =  66.12012644889357\n",
            "Promedio Lectura =  69.25735294117646\n",
            "Promedio Matemáticas =  68.18191377497371\n"
          ]
        }
      ]
    },
    {
      "cell_type": "code",
      "source": [
        "#De acuerdo con lo anterior, el mayor promedio fue obtenido en \"Lectura\"\n",
        "\n",
        "#Pasamos a realizar histogramas de los puntajes para ver distribución"
      ],
      "metadata": {
        "id": "FE9aMy6zhQGB"
      },
      "id": "FE9aMy6zhQGB",
      "execution_count": 28,
      "outputs": []
    },
    {
      "cell_type": "code",
      "source": [
        "stu_df['math score'].hist()"
      ],
      "metadata": {
        "colab": {
          "base_uri": "https://localhost:8080/",
          "height": 282
        },
        "id": "sy-ag234h-85",
        "outputId": "b6df6a5e-50cd-4c5c-9c3b-5539ccf9e098"
      },
      "id": "sy-ag234h-85",
      "execution_count": 29,
      "outputs": [
        {
          "output_type": "execute_result",
          "data": {
            "text/plain": [
              "<matplotlib.axes._subplots.AxesSubplot at 0x7f7d84b20610>"
            ]
          },
          "metadata": {},
          "execution_count": 29
        },
        {
          "output_type": "display_data",
          "data": {
            "text/plain": [
              "<Figure size 432x288 with 1 Axes>"
            ],
            "image/png": "[encoded data removed]"
          },
          "metadata": {
            "needs_background": "light"
          }
        }
      ]
    },
    {
      "cell_type": "code",
      "source": [
        "stu_df['reading score'].hist()"
      ],
      "metadata": {
        "colab": {
          "base_uri": "https://localhost:8080/",
          "height": 282
        },
        "id": "Gt6vjn7ziAQW",
        "outputId": "20e8873e-e0cb-4ab8-f796-f112e2233bd2"
      },
      "id": "Gt6vjn7ziAQW",
      "execution_count": 30,
      "outputs": [
        {
          "output_type": "execute_result",
          "data": {
            "text/plain": [
              "<matplotlib.axes._subplots.AxesSubplot at 0x7f7d84612cd0>"
            ]
          },
          "metadata": {},
          "execution_count": 30
        },
        {
          "output_type": "display_data",
          "data": {
            "text/plain": [
              "<Figure size 432x288 with 1 Axes>"
            ],
            "image/png": "[encoded data removed]"
          },
          "metadata": {
            "needs_background": "light"
          }
        }
      ]
    },
    {
      "cell_type": "code",
      "source": [
        "stu_df['writing score'].hist()"
      ],
      "metadata": {
        "colab": {
          "base_uri": "https://localhost:8080/",
          "height": 282
        },
        "id": "lMASgaPSiAZJ",
        "outputId": "7b925d8c-1a64-425d-8aba-816cc60003ae"
      },
      "id": "lMASgaPSiAZJ",
      "execution_count": 31,
      "outputs": [
        {
          "output_type": "execute_result",
          "data": {
            "text/plain": [
              "<matplotlib.axes._subplots.AxesSubplot at 0x7f7d84518e50>"
            ]
          },
          "metadata": {},
          "execution_count": 31
        },
        {
          "output_type": "display_data",
          "data": {
            "text/plain": [
              "<Figure size 432x288 with 1 Axes>"
            ],
            "image/png": "[encoded data removed]"
          },
          "metadata": {
            "needs_background": "light"
          }
        }
      ]
    },
    {
      "cell_type": "code",
      "source": [
        "# Según los histogramas anteriores la distribución de los 3 puntajes (matemáticas, escritura, lectura) cuentan con sesgo negativo."
      ],
      "metadata": {
        "id": "gIt052rHiPZM"
      },
      "id": "gIt052rHiPZM",
      "execution_count": 32,
      "outputs": []
    },
    {
      "cell_type": "code",
      "execution_count": 37,
      "metadata": {
        "colab": {
          "base_uri": "https://localhost:8080/",
          "height": 458
        },
        "id": "KZM6j4wdZP7q",
        "outputId": "46d6b49b-f439-4cbc-c2fe-dab8b708ac2c"
      },
      "outputs": [
        {
          "output_type": "display_data",
          "data": {
            "text/plain": [
              "<Figure size 936x504 with 1 Axes>"
            ],
            "image/png": "[encoded data removed]"
          },
          "metadata": {
            "needs_background": "light"
          }
        }
      ],
      "source": [
        "#PUNTO 4 CORRELACIÓN ENTRE LOS PUNTAJES OBTENIDOS EN ALS 3 MATERIAS\n",
        "\n",
        "#Determinamos la posible correlación con gráficos bivariados de Scatter Plot\n",
        "\n",
        "plt.figure(figsize = (13, 7))\n",
        "plt.scatter(stu_df['math score'], stu_df['reading score'], alpha = 0.5, color = 'orange')\n",
        "plt.title('Matemáticas y Lectura')\n",
        "plt.xlabel('Matemáticas')\n",
        "plt.ylabel('Lectura')\n",
        "plt.show()"
      ],
      "id": "KZM6j4wdZP7q"
    },
    {
      "cell_type": "code",
      "source": [
        "plt.figure(figsize = (13, 7))\n",
        "plt.scatter(stu_df['math score'], stu_df['writing score'], alpha = 0.5, color = 'blue')\n",
        "plt.title('Matemáticas y Escritura')\n",
        "plt.xlabel('Matemáticas')\n",
        "plt.ylabel('Escritura')\n",
        "plt.show()"
      ],
      "metadata": {
        "colab": {
          "base_uri": "https://localhost:8080/",
          "height": 458
        },
        "id": "UeT6uB1aiOIC",
        "outputId": "5f9a2925-7df3-45af-9dc5-ff5505409855"
      },
      "id": "UeT6uB1aiOIC",
      "execution_count": 38,
      "outputs": [
        {
          "output_type": "display_data",
          "data": {
            "text/plain": [
              "<Figure size 936x504 with 1 Axes>"
            ],
            "image/png": "[encoded data removed]"
          },
          "metadata": {
            "needs_background": "light"
          }
        }
      ]
    },
    {
      "cell_type": "code",
      "source": [
        "plt.figure(figsize = (13, 7))\n",
        "plt.scatter(stu_df['reading score'], stu_df['writing score'], alpha = 0.5, color = 'green')\n",
        "plt.title('Lectura y Escritura')\n",
        "plt.xlabel('Lectura')\n",
        "plt.ylabel('Escritura')\n",
        "plt.show()"
      ],
      "metadata": {
        "colab": {
          "base_uri": "https://localhost:8080/",
          "height": 458
        },
        "id": "CRVSlUebh9ca",
        "outputId": "5645c305-5a65-400f-b989-9b1ac70e202d"
      },
      "id": "CRVSlUebh9ca",
      "execution_count": 39,
      "outputs": [
        {
          "output_type": "display_data",
          "data": {
            "text/plain": [
              "<Figure size 936x504 with 1 Axes>"
            ],
            "image/png": "[encoded data removed]"
          },
          "metadata": {
            "needs_background": "light"
          }
        }
      ]
    },
    {
      "cell_type": "code",
      "source": [
        "#Los gráficos anteriores permiten intuir una correlación positiva entre los puntajes. Verificamos con el cálculo de coeficiente de correlación"
      ],
      "metadata": {
        "id": "NAMu5mYOdbSO"
      },
      "id": "NAMu5mYOdbSO",
      "execution_count": null,
      "outputs": []
    },
    {
      "cell_type": "code",
      "source": [
        "stu_df[['math score', 'reading score']].corr()"
      ],
      "metadata": {
        "colab": {
          "base_uri": "https://localhost:8080/",
          "height": 112
        },
        "id": "K5G1dCa-dbVc",
        "outputId": "814273da-38c5-4466-ee09-3370ce1ec84c"
      },
      "id": "K5G1dCa-dbVc",
      "execution_count": 47,
      "outputs": [
        {
          "output_type": "execute_result",
          "data": {
            "text/plain": [
              "               math score  reading score\n",
              "math score        1.00000        0.81888\n",
              "reading score     0.81888        1.00000"
            ],
            "text/html": [
              "\n",
              "  <div id=\"df-1c6c4dcf-87b6-4d94-8dd2-f3deecade42a\">\n",
              "    <div class=\"colab-df-container\">\n",
              "      <div>\n",
              "<style scoped>\n",
              "    .dataframe tbody tr th:only-of-type {\n",
              "        vertical-align: middle;\n",
              "    }\n",
              "\n",
              "    .dataframe tbody tr th {\n",
              "        vertical-align: top;\n",
              "    }\n",
              "\n",
              "    .dataframe thead th {\n",
              "        text-align: right;\n",
              "    }\n",
              "</style>\n",
              "<table border=\"1\" class=\"dataframe\">\n",
              "  <thead>\n",
              "    <tr style=\"text-align: right;\">\n",
              "      <th></th>\n",
              "      <th>math score</th>\n",
              "      <th>reading score</th>\n",
              "    </tr>\n",
              "  </thead>\n",
              "  <tbody>\n",
              "    <tr>\n",
              "      <th>math score</th>\n",
              "      <td>1.00000</td>\n",
              "      <td>0.81888</td>\n",
              "    </tr>\n",
              "    <tr>\n",
              "      <th>reading score</th>\n",
              "      <td>0.81888</td>\n",
              "      <td>1.00000</td>\n",
              "    </tr>\n",
              "  </tbody>\n",
              "</table>\n",
              "</div>\n",
              "      <button class=\"colab-df-convert\" onclick=\"convertToInteractive('df-1c6c4dcf-87b6-4d94-8dd2-f3deecade42a')\"\n",
              "              title=\"Convert this dataframe to an interactive table.\"\n",
              "              style=\"display:none;\">\n",
              "        \n",
              "  <svg xmlns=\"http://www.w3.org/2000/svg\" height=\"24px\"viewBox=\"0 0 24 24\"\n",
              "       width=\"24px\">\n",
              "    <path d=\"M0 0h24v24H0V0z\" fill=\"none\"/>\n",
              "    <path d=\"M18.56 5.44l.94 2.06.94-2.06 2.06-.94-2.06-.94-.94-2.06-.94 2.06-2.06.94zm-11 1L8.5 8.5l.94-2.06 2.06-.94-2.06-.94L8.5 2.5l-.94 2.06-2.06.94zm10 10l.94 2.06.94-2.06 2.06-.94-2.06-.94-.94-2.06-.94 2.06-2.06.94z\"/><path d=\"M17.41 7.96l-1.37-1.37c-.4-.4-.92-.59-1.43-.59-.52 0-1.04.2-1.43.59L10.3 9.45l-7.72 7.72c-.78.78-.78 2.05 0 2.83L4 21.41c.39.39.9.59 1.41.59.51 0 1.02-.2 1.41-.59l7.78-7.78 2.81-2.81c.8-.78.8-2.07 0-2.86zM5.41 20L4 18.59l7.72-7.72 1.47 1.35L5.41 20z\"/>\n",
              "  </svg>\n",
              "      </button>\n",
              "      \n",
              "  <style>\n",
              "    .colab-df-container {\n",
              "      display:flex;\n",
              "      flex-wrap:wrap;\n",
              "      gap: 12px;\n",
              "    }\n",
              "\n",
              "    .colab-df-convert {\n",
              "      background-color: #E8F0FE;\n",
              "      border: none;\n",
              "      border-radius: 50%;\n",
              "      cursor: pointer;\n",
              "      display: none;\n",
              "      fill: #1967D2;\n",
              "      height: 32px;\n",
              "      padding: 0 0 0 0;\n",
              "      width: 32px;\n",
              "    }\n",
              "\n",
              "    .colab-df-convert:hover {\n",
              "      background-color: #E2EBFA;\n",
              "      box-shadow: 0px 1px 2px rgba(60, 64, 67, 0.3), 0px 1px 3px 1px rgba(60, 64, 67, 0.15);\n",
              "      fill: #174EA6;\n",
              "    }\n",
              "\n",
              "    [theme=dark] .colab-df-convert {\n",
              "      background-color: #3B4455;\n",
              "      fill: #D2E3FC;\n",
              "    }\n",
              "\n",
              "    [theme=dark] .colab-df-convert:hover {\n",
              "      background-color: #434B5C;\n",
              "      box-shadow: 0px 1px 3px 1px rgba(0, 0, 0, 0.15);\n",
              "      filter: drop-shadow(0px 1px 2px rgba(0, 0, 0, 0.3));\n",
              "      fill: #FFFFFF;\n",
              "    }\n",
              "  </style>\n",
              "\n",
              "      <script>\n",
              "        const buttonEl =\n",
              "          document.querySelector('#df-1c6c4dcf-87b6-4d94-8dd2-f3deecade42a button.colab-df-convert');\n",
              "        buttonEl.style.display =\n",
              "          google.colab.kernel.accessAllowed ? 'block' : 'none';\n",
              "\n",
              "        async function convertToInteractive(key) {\n",
              "          const element = document.querySelector('#df-1c6c4dcf-87b6-4d94-8dd2-f3deecade42a');\n",
              "          const dataTable =\n",
              "            await google.colab.kernel.invokeFunction('convertToInteractive',\n",
              "                                                     [key], {});\n",
              "          if (!dataTable) return;\n",
              "\n",
              "          const docLinkHtml = 'Like what you see? Visit the ' +\n",
              "            '<a target=\"_blank\" href=https://colab.research.google.com/notebooks/data_table.ipynb>data table notebook</a>'\n",
              "            + ' to learn more about interactive tables.';\n",
              "          element.innerHTML = '';\n",
              "          dataTable['output_type'] = 'display_data';\n",
              "          await google.colab.output.renderOutput(dataTable, element);\n",
              "          const docLink = document.createElement('div');\n",
              "          docLink.innerHTML = docLinkHtml;\n",
              "          element.appendChild(docLink);\n",
              "        }\n",
              "      </script>\n",
              "    </div>\n",
              "  </div>\n",
              "  "
            ]
          },
          "metadata": {},
          "execution_count": 47
        }
      ]
    },
    {
      "cell_type": "code",
      "source": [
        "stu_df[['reading score', 'writing score']].corr()"
      ],
      "metadata": {
        "colab": {
          "base_uri": "https://localhost:8080/",
          "height": 112
        },
        "id": "jyb-zX9gm847",
        "outputId": "99904192-f9b9-4eaa-85be-2af6a1740d49"
      },
      "id": "jyb-zX9gm847",
      "execution_count": 48,
      "outputs": [
        {
          "output_type": "execute_result",
          "data": {
            "text/plain": [
              "               reading score  writing score\n",
              "reading score       1.000000       0.955338\n",
              "writing score       0.955338       1.000000"
            ],
            "text/html": [
              "\n",
              "  <div id=\"df-d41292c5-c9a1-4961-b5fa-f4c4e6af115b\">\n",
              "    <div class=\"colab-df-container\">\n",
              "      <div>\n",
              "<style scoped>\n",
              "    .dataframe tbody tr th:only-of-type {\n",
              "        vertical-align: middle;\n",
              "    }\n",
              "\n",
              "    .dataframe tbody tr th {\n",
              "        vertical-align: top;\n",
              "    }\n",
              "\n",
              "    .dataframe thead th {\n",
              "        text-align: right;\n",
              "    }\n",
              "</style>\n",
              "<table border=\"1\" class=\"dataframe\">\n",
              "  <thead>\n",
              "    <tr style=\"text-align: right;\">\n",
              "      <th></th>\n",
              "      <th>reading score</th>\n",
              "      <th>writing score</th>\n",
              "    </tr>\n",
              "  </thead>\n",
              "  <tbody>\n",
              "    <tr>\n",
              "      <th>reading score</th>\n",
              "      <td>1.000000</td>\n",
              "      <td>0.955338</td>\n",
              "    </tr>\n",
              "    <tr>\n",
              "      <th>writing score</th>\n",
              "      <td>0.955338</td>\n",
              "      <td>1.000000</td>\n",
              "    </tr>\n",
              "  </tbody>\n",
              "</table>\n",
              "</div>\n",
              "      <button class=\"colab-df-convert\" onclick=\"convertToInteractive('df-d41292c5-c9a1-4961-b5fa-f4c4e6af115b')\"\n",
              "              title=\"Convert this dataframe to an interactive table.\"\n",
              "              style=\"display:none;\">\n",
              "        \n",
              "  <svg xmlns=\"http://www.w3.org/2000/svg\" height=\"24px\"viewBox=\"0 0 24 24\"\n",
              "       width=\"24px\">\n",
              "    <path d=\"M0 0h24v24H0V0z\" fill=\"none\"/>\n",
              "    <path d=\"M18.56 5.44l.94 2.06.94-2.06 2.06-.94-2.06-.94-.94-2.06-.94 2.06-2.06.94zm-11 1L8.5 8.5l.94-2.06 2.06-.94-2.06-.94L8.5 2.5l-.94 2.06-2.06.94zm10 10l.94 2.06.94-2.06 2.06-.94-2.06-.94-.94-2.06-.94 2.06-2.06.94z\"/><path d=\"M17.41 7.96l-1.37-1.37c-.4-.4-.92-.59-1.43-.59-.52 0-1.04.2-1.43.59L10.3 9.45l-7.72 7.72c-.78.78-.78 2.05 0 2.83L4 21.41c.39.39.9.59 1.41.59.51 0 1.02-.2 1.41-.59l7.78-7.78 2.81-2.81c.8-.78.8-2.07 0-2.86zM5.41 20L4 18.59l7.72-7.72 1.47 1.35L5.41 20z\"/>\n",
              "  </svg>\n",
              "      </button>\n",
              "      \n",
              "  <style>\n",
              "    .colab-df-container {\n",
              "      display:flex;\n",
              "      flex-wrap:wrap;\n",
              "      gap: 12px;\n",
              "    }\n",
              "\n",
              "    .colab-df-convert {\n",
              "      background-color: #E8F0FE;\n",
              "      border: none;\n",
              "      border-radius: 50%;\n",
              "      cursor: pointer;\n",
              "      display: none;\n",
              "      fill: #1967D2;\n",
              "      height: 32px;\n",
              "      padding: 0 0 0 0;\n",
              "      width: 32px;\n",
              "    }\n",
              "\n",
              "    .colab-df-convert:hover {\n",
              "      background-color: #E2EBFA;\n",
              "      box-shadow: 0px 1px 2px rgba(60, 64, 67, 0.3), 0px 1px 3px 1px rgba(60, 64, 67, 0.15);\n",
              "      fill: #174EA6;\n",
              "    }\n",
              "\n",
              "    [theme=dark] .colab-df-convert {\n",
              "      background-color: #3B4455;\n",
              "      fill: #D2E3FC;\n",
              "    }\n",
              "\n",
              "    [theme=dark] .colab-df-convert:hover {\n",
              "      background-color: #434B5C;\n",
              "      box-shadow: 0px 1px 3px 1px rgba(0, 0, 0, 0.15);\n",
              "      filter: drop-shadow(0px 1px 2px rgba(0, 0, 0, 0.3));\n",
              "      fill: #FFFFFF;\n",
              "    }\n",
              "  </style>\n",
              "\n",
              "      <script>\n",
              "        const buttonEl =\n",
              "          document.querySelector('#df-d41292c5-c9a1-4961-b5fa-f4c4e6af115b button.colab-df-convert');\n",
              "        buttonEl.style.display =\n",
              "          google.colab.kernel.accessAllowed ? 'block' : 'none';\n",
              "\n",
              "        async function convertToInteractive(key) {\n",
              "          const element = document.querySelector('#df-d41292c5-c9a1-4961-b5fa-f4c4e6af115b');\n",
              "          const dataTable =\n",
              "            await google.colab.kernel.invokeFunction('convertToInteractive',\n",
              "                                                     [key], {});\n",
              "          if (!dataTable) return;\n",
              "\n",
              "          const docLinkHtml = 'Like what you see? Visit the ' +\n",
              "            '<a target=\"_blank\" href=https://colab.research.google.com/notebooks/data_table.ipynb>data table notebook</a>'\n",
              "            + ' to learn more about interactive tables.';\n",
              "          element.innerHTML = '';\n",
              "          dataTable['output_type'] = 'display_data';\n",
              "          await google.colab.output.renderOutput(dataTable, element);\n",
              "          const docLink = document.createElement('div');\n",
              "          docLink.innerHTML = docLinkHtml;\n",
              "          element.appendChild(docLink);\n",
              "        }\n",
              "      </script>\n",
              "    </div>\n",
              "  </div>\n",
              "  "
            ]
          },
          "metadata": {},
          "execution_count": 48
        }
      ]
    },
    {
      "cell_type": "code",
      "source": [
        "#Con los resultados anteriores podemos verificar la existencia de una fuerte correlación entre los puntajes\n"
      ],
      "metadata": {
        "id": "FxBNXmPkdbrB"
      },
      "id": "FxBNXmPkdbrB",
      "execution_count": 43,
      "outputs": []
    },
    {
      "cell_type": "code",
      "execution_count": 44,
      "metadata": {
        "id": "U6FMtWUAZP7q"
      },
      "outputs": [],
      "source": [
        "# PUNTO 5 PUNTAJES DE MATEMÁTICAS POR GÉNERO\n"
      ],
      "id": "U6FMtWUAZP7q"
    },
    {
      "cell_type": "code",
      "execution_count": null,
      "metadata": {
        "id": "GZ4aaVfbZP7q",
        "outputId": "1967fe37-27df-46dc-dc75-b8510457fc1b"
      },
      "outputs": [
        {
          "data": {
            "text/plain": [
              "{'SECUESTRO EXTORSIVO', 'SECUESTRO SIMPLE'}"
            ]
          },
          "execution_count": 19,
          "metadata": {},
          "output_type": "execute_result"
        }
      ],
      "source": [
        "#Para determinar lo anterior, realizamos agrupación por género para matemáticas\n"
      ],
      "id": "GZ4aaVfbZP7q"
    },
    {
      "cell_type": "code",
      "execution_count": 45,
      "metadata": {
        "colab": {
          "base_uri": "https://localhost:8080/"
        },
        "id": "c6N4iLM1ZP7r",
        "outputId": "3da5da3f-f509-4974-c802-436a47d86a04"
      },
      "outputs": [
        {
          "output_type": "execute_result",
          "data": {
            "text/plain": [
              "gender\n",
              "female        25637.0\n",
              "male          24995.0\n",
              "non-binary     9153.0\n",
              "Name: math score, dtype: float64"
            ]
          },
          "metadata": {},
          "execution_count": 45
        }
      ],
      "source": [
        "stu_df['math score'].groupby(stu_df[\"gender\"]).sum()"
      ],
      "id": "c6N4iLM1ZP7r"
    },
    {
      "cell_type": "code",
      "execution_count": 46,
      "metadata": {
        "id": "Rq5oJLF4ZP7r"
      },
      "outputs": [],
      "source": [
        "# Con base en lo anterior, el género femenino obtubo mejores resultados en matemáticas. \n",
        "# No obstante, no hay una diferencia sustancial con el género masculino"
      ],
      "id": "Rq5oJLF4ZP7r"
    },
    {
      "cell_type": "code",
      "execution_count": 49,
      "metadata": {
        "id": "1uvqyEN5ZP7r"
      },
      "outputs": [],
      "source": [
        "# PUNTO 6 ESCOLARIDAD PADRES DE ESTUDIANTES CON PUNTAJES MAYOR AL PERCENTIL 85 EN ESCRITURA"
      ],
      "id": "1uvqyEN5ZP7r"
    },
    {
      "cell_type": "code",
      "execution_count": 51,
      "metadata": {
        "id": "lpmJrlpjZP7s"
      },
      "outputs": [],
      "source": [
        "# PUNTO 7. ESTUDIANTES CON PUNTAJES SUPERIORES A 90 EN TODAS LAS MATERIAS"
      ],
      "id": "lpmJrlpjZP7s"
    },
    {
      "cell_type": "code",
      "execution_count": 83,
      "metadata": {
        "colab": {
          "base_uri": "https://localhost:8080/"
        },
        "id": "Th2Vr3Z0ZP7s",
        "outputId": "55381c96-2114-47f4-aadf-4bcacadca9ef"
      },
      "outputs": [
        {
          "output_type": "execute_result",
          "data": {
            "text/plain": [
              "(22, 8)"
            ]
          },
          "metadata": {},
          "execution_count": 83
        }
      ],
      "source": [
        "S90_df = stu_df[(stu_df['math score'] > 90) & (stu_df['reading score']>=90) & (stu_df['writing score']>=90)]\n",
        "S90_df.shape"
      ],
      "id": "Th2Vr3Z0ZP7s"
    },
    {
      "cell_type": "code",
      "execution_count": 84,
      "metadata": {
        "id": "qs40koZrZP7s"
      },
      "outputs": [],
      "source": [
        "#De acuerdo con lo anterior, solo 22 estudiantes cumplen todos los puntajes por encima de 90 por lo cual el porcentaje del total es de solo el 2,2%\n",
        "#Realizamos una agrupación apra saber el nivel de escolaridad de los padres de estos estudiantes"
      ],
      "id": "qs40koZrZP7s"
    },
    {
      "cell_type": "code",
      "execution_count": 92,
      "metadata": {
        "colab": {
          "base_uri": "https://localhost:8080/",
          "height": 206
        },
        "id": "Rrl9GHpeZP7w",
        "outputId": "94815a13-7118-4e16-c655-ff571281c41c"
      },
      "outputs": [
        {
          "output_type": "execute_result",
          "data": {
            "text/plain": [
              "         gender race/ethnicity parental level of education     lunch  \\\n",
              "114  non-binary        group E           bachelor's degree  standard   \n",
              "165      female        group C           bachelor's degree  standard   \n",
              "263      female        group E                 high school       NaN   \n",
              "451      female        group E                some college  standard   \n",
              "458      female        group E           bachelor's degree  standard   \n",
              "\n",
              "    test preparation course  math score  reading score  writing score  \n",
              "114               completed        99.0          100.0          100.0  \n",
              "165               completed        96.0          100.0          100.0  \n",
              "263                    none        99.0           93.0           90.0  \n",
              "451                    none       100.0           92.0           97.0  \n",
              "458                    none       100.0          100.0          100.0  "
            ],
            "text/html": [
              "\n",
              "  <div id=\"df-aa78441d-7a2a-414b-a2e4-3636dc2d24f0\">\n",
              "    <div class=\"colab-df-container\">\n",
              "      <div>\n",
              "<style scoped>\n",
              "    .dataframe tbody tr th:only-of-type {\n",
              "        vertical-align: middle;\n",
              "    }\n",
              "\n",
              "    .dataframe tbody tr th {\n",
              "        vertical-align: top;\n",
              "    }\n",
              "\n",
              "    .dataframe thead th {\n",
              "        text-align: right;\n",
              "    }\n",
              "</style>\n",
              "<table border=\"1\" class=\"dataframe\">\n",
              "  <thead>\n",
              "    <tr style=\"text-align: right;\">\n",
              "      <th></th>\n",
              "      <th>gender</th>\n",
              "      <th>race/ethnicity</th>\n",
              "      <th>parental level of education</th>\n",
              "      <th>lunch</th>\n",
              "      <th>test preparation course</th>\n",
              "      <th>math score</th>\n",
              "      <th>reading score</th>\n",
              "      <th>writing score</th>\n",
              "    </tr>\n",
              "  </thead>\n",
              "  <tbody>\n",
              "    <tr>\n",
              "      <th>114</th>\n",
              "      <td>non-binary</td>\n",
              "      <td>group E</td>\n",
              "      <td>bachelor's degree</td>\n",
              "      <td>standard</td>\n",
              "      <td>completed</td>\n",
              "      <td>99.0</td>\n",
              "      <td>100.0</td>\n",
              "      <td>100.0</td>\n",
              "    </tr>\n",
              "    <tr>\n",
              "      <th>165</th>\n",
              "      <td>female</td>\n",
              "      <td>group C</td>\n",
              "      <td>bachelor's degree</td>\n",
              "      <td>standard</td>\n",
              "      <td>completed</td>\n",
              "      <td>96.0</td>\n",
              "      <td>100.0</td>\n",
              "      <td>100.0</td>\n",
              "    </tr>\n",
              "    <tr>\n",
              "      <th>263</th>\n",
              "      <td>female</td>\n",
              "      <td>group E</td>\n",
              "      <td>high school</td>\n",
              "      <td>NaN</td>\n",
              "      <td>none</td>\n",
              "      <td>99.0</td>\n",
              "      <td>93.0</td>\n",
              "      <td>90.0</td>\n",
              "    </tr>\n",
              "    <tr>\n",
              "      <th>451</th>\n",
              "      <td>female</td>\n",
              "      <td>group E</td>\n",
              "      <td>some college</td>\n",
              "      <td>standard</td>\n",
              "      <td>none</td>\n",
              "      <td>100.0</td>\n",
              "      <td>92.0</td>\n",
              "      <td>97.0</td>\n",
              "    </tr>\n",
              "    <tr>\n",
              "      <th>458</th>\n",
              "      <td>female</td>\n",
              "      <td>group E</td>\n",
              "      <td>bachelor's degree</td>\n",
              "      <td>standard</td>\n",
              "      <td>none</td>\n",
              "      <td>100.0</td>\n",
              "      <td>100.0</td>\n",
              "      <td>100.0</td>\n",
              "    </tr>\n",
              "  </tbody>\n",
              "</table>\n",
              "</div>\n",
              "      <button class=\"colab-df-convert\" onclick=\"convertToInteractive('df-aa78441d-7a2a-414b-a2e4-3636dc2d24f0')\"\n",
              "              title=\"Convert this dataframe to an interactive table.\"\n",
              "              style=\"display:none;\">\n",
              "        \n",
              "  <svg xmlns=\"http://www.w3.org/2000/svg\" height=\"24px\"viewBox=\"0 0 24 24\"\n",
              "       width=\"24px\">\n",
              "    <path d=\"M0 0h24v24H0V0z\" fill=\"none\"/>\n",
              "    <path d=\"M18.56 5.44l.94 2.06.94-2.06 2.06-.94-2.06-.94-.94-2.06-.94 2.06-2.06.94zm-11 1L8.5 8.5l.94-2.06 2.06-.94-2.06-.94L8.5 2.5l-.94 2.06-2.06.94zm10 10l.94 2.06.94-2.06 2.06-.94-2.06-.94-.94-2.06-.94 2.06-2.06.94z\"/><path d=\"M17.41 7.96l-1.37-1.37c-.4-.4-.92-.59-1.43-.59-.52 0-1.04.2-1.43.59L10.3 9.45l-7.72 7.72c-.78.78-.78 2.05 0 2.83L4 21.41c.39.39.9.59 1.41.59.51 0 1.02-.2 1.41-.59l7.78-7.78 2.81-2.81c.8-.78.8-2.07 0-2.86zM5.41 20L4 18.59l7.72-7.72 1.47 1.35L5.41 20z\"/>\n",
              "  </svg>\n",
              "      </button>\n",
              "      \n",
              "  <style>\n",
              "    .colab-df-container {\n",
              "      display:flex;\n",
              "      flex-wrap:wrap;\n",
              "      gap: 12px;\n",
              "    }\n",
              "\n",
              "    .colab-df-convert {\n",
              "      background-color: #E8F0FE;\n",
              "      border: none;\n",
              "      border-radius: 50%;\n",
              "      cursor: pointer;\n",
              "      display: none;\n",
              "      fill: #1967D2;\n",
              "      height: 32px;\n",
              "      padding: 0 0 0 0;\n",
              "      width: 32px;\n",
              "    }\n",
              "\n",
              "    .colab-df-convert:hover {\n",
              "      background-color: #E2EBFA;\n",
              "      box-shadow: 0px 1px 2px rgba(60, 64, 67, 0.3), 0px 1px 3px 1px rgba(60, 64, 67, 0.15);\n",
              "      fill: #174EA6;\n",
              "    }\n",
              "\n",
              "    [theme=dark] .colab-df-convert {\n",
              "      background-color: #3B4455;\n",
              "      fill: #D2E3FC;\n",
              "    }\n",
              "\n",
              "    [theme=dark] .colab-df-convert:hover {\n",
              "      background-color: #434B5C;\n",
              "      box-shadow: 0px 1px 3px 1px rgba(0, 0, 0, 0.15);\n",
              "      filter: drop-shadow(0px 1px 2px rgba(0, 0, 0, 0.3));\n",
              "      fill: #FFFFFF;\n",
              "    }\n",
              "  </style>\n",
              "\n",
              "      <script>\n",
              "        const buttonEl =\n",
              "          document.querySelector('#df-aa78441d-7a2a-414b-a2e4-3636dc2d24f0 button.colab-df-convert');\n",
              "        buttonEl.style.display =\n",
              "          google.colab.kernel.accessAllowed ? 'block' : 'none';\n",
              "\n",
              "        async function convertToInteractive(key) {\n",
              "          const element = document.querySelector('#df-aa78441d-7a2a-414b-a2e4-3636dc2d24f0');\n",
              "          const dataTable =\n",
              "            await google.colab.kernel.invokeFunction('convertToInteractive',\n",
              "                                                     [key], {});\n",
              "          if (!dataTable) return;\n",
              "\n",
              "          const docLinkHtml = 'Like what you see? Visit the ' +\n",
              "            '<a target=\"_blank\" href=https://colab.research.google.com/notebooks/data_table.ipynb>data table notebook</a>'\n",
              "            + ' to learn more about interactive tables.';\n",
              "          element.innerHTML = '';\n",
              "          dataTable['output_type'] = 'display_data';\n",
              "          await google.colab.output.renderOutput(dataTable, element);\n",
              "          const docLink = document.createElement('div');\n",
              "          docLink.innerHTML = docLinkHtml;\n",
              "          element.appendChild(docLink);\n",
              "        }\n",
              "      </script>\n",
              "    </div>\n",
              "  </div>\n",
              "  "
            ]
          },
          "metadata": {},
          "execution_count": 92
        }
      ],
      "source": [
        "S90_df.head()"
      ],
      "id": "Rrl9GHpeZP7w"
    },
    {
      "cell_type": "code",
      "execution_count": 94,
      "metadata": {
        "colab": {
          "base_uri": "https://localhost:8080/"
        },
        "id": "R4nQdbPrZP7x",
        "outputId": "847d61ca-6297-47f8-d1f9-d8b6937424f6"
      },
      "outputs": [
        {
          "output_type": "execute_result",
          "data": {
            "text/plain": [
              "bachelor's degree     11\n",
              "some college           4\n",
              "associate's degree     3\n",
              "master's degree        2\n",
              "high school            1\n",
              "some high school       1\n",
              "Name: parental level of education, dtype: int64"
            ]
          },
          "metadata": {},
          "execution_count": 94
        }
      ],
      "source": [
        "S90_df['parental level of education'].value_counts()"
      ],
      "id": "R4nQdbPrZP7x"
    },
    {
      "cell_type": "code",
      "execution_count": 95,
      "metadata": {
        "id": "WAexXwEuZP7x"
      },
      "outputs": [],
      "source": [
        "# Según el resultado anterior, la educación más frecuente de estos estudiantes es \"Bachelor\" seguido de \"some college\""
      ],
      "id": "WAexXwEuZP7x"
    },
    {
      "cell_type": "code",
      "execution_count": null,
      "metadata": {
        "id": "Q_nqbrEWZP7x"
      },
      "outputs": [],
      "source": [
        ""
      ],
      "id": "Q_nqbrEWZP7x"
    }
  ],
  "metadata": {
    "kernelspec": {
      "display_name": "Python 3",
      "language": "python",
      "name": "python3"
    },
    "language_info": {
      "codemirror_mode": {
        "name": "ipython",
        "version": 3
      },
      "file_extension": ".py",
      "mimetype": "text/x-python",
      "name": "python",
      "nbconvert_exporter": "python",
      "pygments_lexer": "ipython3",
      "version": "3.8.5"
    },
    "latex_envs": {
      "LaTeX_envs_menu_present": true,
      "autoclose": false,
      "autocomplete": true,
      "bibliofile": "biblio.bib",
      "cite_by": "apalike",
      "current_citInitial": 1,
      "eqLabelWithNumbers": true,
      "eqNumInitial": 1,
      "hotkeys": {
        "equation": "Ctrl-E",
        "itemize": "Ctrl-I"
      },
      "labels_anchors": false,
      "latex_user_defs": false,
      "report_style_numbering": false,
      "user_envs_cfg": false
    },
    "toc": {
      "base_numbering": 1,
      "nav_menu": {},
      "number_sections": true,
      "sideBar": true,
      "skip_h1_title": false,
      "title_cell": "Table of Contents",
      "title_sidebar": "Contents",
      "toc_cell": false,
      "toc_position": {},
      "toc_section_display": true,
      "toc_window_display": false
    },
    "colab": {
      "name": "Parcial_I_Orozco_Israel.ipynb",
      "provenance": []
    }
  },
  "nbformat": 4,
  "nbformat_minor": 5
}